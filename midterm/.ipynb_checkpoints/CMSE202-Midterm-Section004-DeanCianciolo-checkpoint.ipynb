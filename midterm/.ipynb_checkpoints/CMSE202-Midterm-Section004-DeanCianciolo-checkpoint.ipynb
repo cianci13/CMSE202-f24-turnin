{
 "cells": [
  {
   "cell_type": "markdown",
   "metadata": {
    "pycharm": {
     "name": "#%% md\n"
    }
   },
   "source": [
    "### <p style=\"text-align: right;\"> &#9989; Dean Cianciolo</p>\n",
    "### <p style=\"text-align: right;\"> &#9989; cianci13</p>"
   ]
  },
  {
   "cell_type": "markdown",
   "metadata": {
    "pycharm": {
     "name": "#%% md\n"
    }
   },
   "source": [
    "# CMSE 202 Midterm (Section 004 - Fall 2024)\n",
    "\n",
    "The goal of this midterm is to give you the opportunity to test out some of the skills that you've developed thus far this semester. In particular, you'll practice setting up a GitHub repository, committing and pushing repository changes, downloading data with command line tools, performing some data analysis, possibly using a new Python package, and writing a python class. You should find that you have all of the skills necessary to complete this exam with even just eight weeks of CMSE 202 under your belt!\n",
    "\n",
    "You are encouraged to look through the entire exam before you get started so that you can appropriately budget your time and understand the broad goals of the exam. Once you've read through it, try doing Parts 1 and 2 first so that you have your repository set up and you download all necessary data files as they will be necessary to complete the assigned tasks. Let your instructor know right away if you have problems downloading the data!\n",
    "\n",
    "The exam is set up so that even if you get stuck on one part there are opportunities to get points on the other parts, so consider jumping ahead if you feel like you aren't making progress and then come back later if you have time.\n",
    "\n",
    "**Important note about using online resources**: This exam is \"open internet\". That means that you can look up documentation, google how to accomplish certain Python tasks, etc. Being able to effectively use the internet for computational modeling and data science is a very important skill, so we want to make sure you have the opportunity to exercise that skill. **However**: The use of any person-to-person communication software is absolutely not acceptable. If you are seen accessing your email, using a chat program (e.g. Slack), or any sort of collaborative cloud storage or document software (e.g. Google Documents), you will be at risk for receiving a zero on the exam. The same goes for ChatGPT. \n",
    "\n",
    "**Keep your eyes on your screen!** Unfortunately, there isn't enough space in the room for everyone to sit at their own table so please do your best to keep your eyes on your own screen. This exam is designed to give *you* the opportunity to show the instructor what you can do and you should hold yourself accountable for maintaining a high level of academic integrity. If any of the instructors observe suspicious behavior, you will, again, risk receiving a zero.\n",
    "\n",
    "The maximum number of points is: **81 Points**"
   ]
  },
  {
   "cell_type": "markdown",
   "metadata": {
    "pycharm": {
     "name": "#%% md\n"
    }
   },
   "source": [
    "![Moira](https://media.giphy.com/media/26gs78HRO8sOuhTkQ/giphy.gif)"
   ]
  },
  {
   "cell_type": "markdown",
   "metadata": {
    "pycharm": {
     "name": "#%% md\n"
    }
   },
   "source": [
    "---\n",
    "# &#128721; READ EVERYTHING CAREFULLY"
   ]
  },
  {
   "cell_type": "markdown",
   "metadata": {
    "pycharm": {
     "name": "#%% md\n"
    }
   },
   "source": [
    "---\n",
    "# Part 0: Academic integrity statement (1 point)\n",
    "\n",
    "Read the following statement and edit the markdown text to put your name in the statement. This is your commitment to doing your own authentic work on this exam."
   ]
  },
  {
   "cell_type": "markdown",
   "metadata": {
    "pycharm": {
     "name": "#%% md\n"
    }
   },
   "source": [
    "> I, **Dean Cianciolo**, affirm that this exam represents my own authetic work, without the use of any unpermitted aids or resources or person-to-person communication. I understand that this exam an an opportunity to showcase my own progress in developing and improving my computational skills and have done my best to demonstrate those skills."
   ]
  },
  {
   "cell_type": "markdown",
   "metadata": {
    "pycharm": {
     "name": "#%% md\n"
    }
   },
   "source": [
    "---\n",
    "# Part 1: Git and Command Line Interface (9 points)\n",
    "\n",
    "Before you get to far along in the exam, you're going to add it to the `cmse202-f24-turnin` repository you created in class so that you can track your progress on the exam and preserve the final version that you turn in. \n"
   ]
  },
  {
   "cell_type": "markdown",
   "metadata": {
    "pycharm": {
     "name": "#%% md\n"
    }
   },
   "source": [
    "---\n",
    "**&#9989; **Question 1.1 (1 point)**** Navigate to your `cmse202-f24-turnin` repository and create a new directory called `midterm`. \n",
    "\n",
    "```\n",
    "mkdir midterm\n",
    "```"
   ]
  },
  {
   "cell_type": "markdown",
   "metadata": {
    "pycharm": {
     "name": "#%% md\n"
    }
   },
   "source": [
    "---\n",
    "&#9989; **Question 1.2 (3 points)** Check the status of `git` .\n",
    "\n",
    "``` \n",
    "git status\n",
    "```\n",
    "\n",
    "Copy and paste below the output of the command.\n",
    "\n",
    "```\n",
    "On branch main\n",
    "Your branch is up to date with 'origin/main'.\n",
    "\n",
    "Changes not staged for commit:\n",
    "  (use \"git add <file>...\" to update what will be committed)\n",
    "  (use \"git restore <file>...\" to discard changes in working directory)\n",
    "        modified:   Day-13/.ipynb_checkpoints/Day-13_In-Class-Regression-DeanCianciolo-checkpoint.ipynb\n",
    "        modified:   Day-13/Day-13_In-Class-Regression-DeanCianciolo.ipynb\n",
    "\n",
    "Untracked files:\n",
    "  (use \"git add <file>...\" to include in what will be committed)\n",
    "        .ipynb_checkpoints/CMSE202-Midterm-Section004-DeanCianciolo-checkpoint.ipynb\n",
    "        CMSE202-Midterm-Section004-DeanCianciolo.ipynb\n",
    "        Day-13/Dataset.data\n",
    "        Day-13/Dataset.spec\n",
    "\n",
    "no changes added to commit (use \"git add\" and/or \"git commit -a\")\n",
    "```\n",
    "\n",
    "What is the name of the branch you are in ? \n",
    "\n",
    "```\n",
    "main\n",
    "```\n",
    "\n",
    "**Important:** If you are not in the `main` branch change to your `main` branch. \n",
    "\n",
    "Once in the main branch move this notebook into that **new directory** in your repository."
   ]
  },
  {
   "cell_type": "markdown",
   "metadata": {
    "pycharm": {
     "name": "#%% md\n"
    }
   },
   "source": [
    "---\n",
    "&#9989; **Question 1.3 (3 points):**\n",
    "Add your name and GitHub username to the top of the notebook, then add and commit **ONLY** the notebook.\n",
    "\n",
    "```\n",
    "git add midterm/CMSE202-Midterm-Section004-DeanCianciolo.ipynb\n",
    "git commit -m \"initial midterm commit\"\n",
    "```\n",
    "\n",
    "What is the commit message you used ?\n",
    "\n",
    "```\n",
    "initial midterm commit\n",
    "```"
   ]
  },
  {
   "cell_type": "markdown",
   "metadata": {
    "pycharm": {
     "name": "#%% md\n"
    }
   },
   "source": [
    "---\n",
    "&#9989; **Question 1.4 (1 point):** Before moving on. Check that the notebook you are working on is the correct one. Run the following cell. **Are you in the new folder you just created?** If not close this notebook and open the one in the midterm folder\n"
   ]
  },
  {
   "cell_type": "code",
   "execution_count": 1,
   "metadata": {
    "pycharm": {
     "name": "#%%\n"
    }
   },
   "outputs": [
    {
     "name": "stdout",
     "output_type": "stream",
     "text": [
      "/home/cianci13/CMSE202-f24-turnin/midterm\n"
     ]
    }
   ],
   "source": [
    "!pwd"
   ]
  },
  {
   "cell_type": "markdown",
   "metadata": {
    "pycharm": {
     "name": "#%% md\n"
    }
   },
   "source": [
    "---\n",
    "&#9989; **Question 1.5 (1 point):**\n",
    "Finally push the updated repo to GitHub.\n",
    "\n",
    "```\n",
    "git push\n",
    "```\n"
   ]
  },
  {
   "cell_type": "markdown",
   "metadata": {
    "pycharm": {
     "name": "#%% md\n"
    }
   },
   "source": [
    "---\n",
    "# Part 2: Downloading and analyzing unfamiliar data (21 points)\n",
    "\n",
    "For this part of the exam, you're to download and analyze a dataset that you've likely not looked at before. You'll perform some simple, exploratorary analysis and create basic visualizations."
   ]
  },
  {
   "cell_type": "markdown",
   "metadata": {
    "pycharm": {
     "name": "#%% md\n"
    }
   },
   "source": [
    "In particular, you're going to be working with a dataset that contains data on all nuclear explosions between 1945 and 1998. The data are from `N.-O. Bergkvist and R. Ferm, Nuclear Explosions 1945–1998, Swedish Defence Research Establishment/SIPRI, Stockholm, July 2000`. \n",
    "\n",
    "Download the file from \n",
    "\n",
    "`https://raw.githubusercontent.com/msu-cmse-courses/cmse202-S22-data/main/code_samples/nuclear-explosion-data.csv `\n"
   ]
  },
  {
   "cell_type": "markdown",
   "metadata": {
    "pycharm": {
     "name": "#%% md\n"
    }
   },
   "source": [
    "&#9989; **Question 2.1 (1 point)**: **Do this now:** Save this files in the same directory as your notebook so you can load it directly. \n",
    "\n",
    "**Then, in the cell below, put the command or commands you used to download the files. If you did not use a command line tool to download the files, write down a command that *would* have fetched the files.**"
   ]
  },
  {
   "cell_type": "markdown",
   "metadata": {
    "pycharm": {
     "name": "#%% md\n"
    }
   },
   "source": [
    "``` \n",
    "curl -o nuclear-explosion-data.csv https://raw.githubusercontent.com/msu-cmse-courses/cmse202-S22-data/main/code_samples/nuclear-explosion-data.csv\n",
    "\n",
    "```"
   ]
  },
  {
   "cell_type": "markdown",
   "metadata": {
    "pycharm": {
     "name": "#%% md\n"
    }
   },
   "source": [
    "&#9989; **Question 2.2.1 (2 points)**: To get started, **read in the `nuclear-explosion-data.csv` dataset** and then display the first 6 rows of the data using **Pandas**."
   ]
  },
  {
   "cell_type": "code",
   "execution_count": 2,
   "metadata": {
    "pycharm": {
     "name": "#%%\n"
    }
   },
   "outputs": [
    {
     "data": {
      "text/html": [
       "<div>\n",
       "<style scoped>\n",
       "    .dataframe tbody tr th:only-of-type {\n",
       "        vertical-align: middle;\n",
       "    }\n",
       "\n",
       "    .dataframe tbody tr th {\n",
       "        vertical-align: top;\n",
       "    }\n",
       "\n",
       "    .dataframe thead th {\n",
       "        text-align: right;\n",
       "    }\n",
       "</style>\n",
       "<table border=\"1\" class=\"dataframe\">\n",
       "  <thead>\n",
       "    <tr style=\"text-align: right;\">\n",
       "      <th></th>\n",
       "      <th>date</th>\n",
       "      <th>time</th>\n",
       "      <th>id</th>\n",
       "      <th>country</th>\n",
       "      <th>region</th>\n",
       "      <th>source</th>\n",
       "      <th>lat</th>\n",
       "      <th>long</th>\n",
       "      <th>mb</th>\n",
       "      <th>Ms</th>\n",
       "      <th>depth</th>\n",
       "      <th>yield_lower</th>\n",
       "      <th>yield_upper</th>\n",
       "      <th>purpose</th>\n",
       "      <th>name</th>\n",
       "      <th>type</th>\n",
       "    </tr>\n",
       "  </thead>\n",
       "  <tbody>\n",
       "    <tr>\n",
       "      <th>0</th>\n",
       "      <td>19450716</td>\n",
       "      <td>123000.0</td>\n",
       "      <td>45001</td>\n",
       "      <td>USA</td>\n",
       "      <td>ALAMOGORDO</td>\n",
       "      <td>DOE</td>\n",
       "      <td>32.54</td>\n",
       "      <td>-105.57</td>\n",
       "      <td>0.0</td>\n",
       "      <td>0.0</td>\n",
       "      <td>-0.10</td>\n",
       "      <td>21.0</td>\n",
       "      <td>21.0</td>\n",
       "      <td>WR</td>\n",
       "      <td>TRINITY</td>\n",
       "      <td>TOWER</td>\n",
       "    </tr>\n",
       "    <tr>\n",
       "      <th>1</th>\n",
       "      <td>19450805</td>\n",
       "      <td>231500.0</td>\n",
       "      <td>45002</td>\n",
       "      <td>USA</td>\n",
       "      <td>HIROSHIMA</td>\n",
       "      <td>DOE</td>\n",
       "      <td>34.23</td>\n",
       "      <td>132.27</td>\n",
       "      <td>0.0</td>\n",
       "      <td>0.0</td>\n",
       "      <td>-0.60</td>\n",
       "      <td>15.0</td>\n",
       "      <td>15.0</td>\n",
       "      <td>COMBAT</td>\n",
       "      <td>LITTLEBOY</td>\n",
       "      <td>AIRDROP</td>\n",
       "    </tr>\n",
       "    <tr>\n",
       "      <th>2</th>\n",
       "      <td>19450809</td>\n",
       "      <td>15800.0</td>\n",
       "      <td>45003</td>\n",
       "      <td>USA</td>\n",
       "      <td>NAGASAKI</td>\n",
       "      <td>DOE</td>\n",
       "      <td>32.45</td>\n",
       "      <td>129.52</td>\n",
       "      <td>0.0</td>\n",
       "      <td>0.0</td>\n",
       "      <td>-0.60</td>\n",
       "      <td>21.0</td>\n",
       "      <td>21.0</td>\n",
       "      <td>COMBAT</td>\n",
       "      <td>FATMAN</td>\n",
       "      <td>AIRDROP</td>\n",
       "    </tr>\n",
       "    <tr>\n",
       "      <th>3</th>\n",
       "      <td>19460630</td>\n",
       "      <td>220100.0</td>\n",
       "      <td>46001</td>\n",
       "      <td>USA</td>\n",
       "      <td>BIKINI</td>\n",
       "      <td>DOE</td>\n",
       "      <td>11.35</td>\n",
       "      <td>165.20</td>\n",
       "      <td>0.0</td>\n",
       "      <td>0.0</td>\n",
       "      <td>-0.20</td>\n",
       "      <td>21.0</td>\n",
       "      <td>21.0</td>\n",
       "      <td>WE</td>\n",
       "      <td>ABLE</td>\n",
       "      <td>AIRDROP</td>\n",
       "    </tr>\n",
       "    <tr>\n",
       "      <th>4</th>\n",
       "      <td>19460724</td>\n",
       "      <td>213500.0</td>\n",
       "      <td>46002</td>\n",
       "      <td>USA</td>\n",
       "      <td>BIKINI</td>\n",
       "      <td>DOE</td>\n",
       "      <td>11.35</td>\n",
       "      <td>165.20</td>\n",
       "      <td>0.0</td>\n",
       "      <td>0.0</td>\n",
       "      <td>0.03</td>\n",
       "      <td>21.0</td>\n",
       "      <td>21.0</td>\n",
       "      <td>WE</td>\n",
       "      <td>BAKER</td>\n",
       "      <td>UW</td>\n",
       "    </tr>\n",
       "    <tr>\n",
       "      <th>5</th>\n",
       "      <td>19480414</td>\n",
       "      <td>181700.0</td>\n",
       "      <td>48001</td>\n",
       "      <td>USA</td>\n",
       "      <td>ENEWETAK</td>\n",
       "      <td>DOE</td>\n",
       "      <td>11.30</td>\n",
       "      <td>162.15</td>\n",
       "      <td>0.0</td>\n",
       "      <td>0.0</td>\n",
       "      <td>-0.08</td>\n",
       "      <td>37.0</td>\n",
       "      <td>37.0</td>\n",
       "      <td>WR</td>\n",
       "      <td>X-RAY</td>\n",
       "      <td>TOWER</td>\n",
       "    </tr>\n",
       "  </tbody>\n",
       "</table>\n",
       "</div>"
      ],
      "text/plain": [
       "       date      time     id country      region source    lat    long   mb  \\\n",
       "0  19450716  123000.0  45001     USA  ALAMOGORDO    DOE  32.54 -105.57  0.0   \n",
       "1  19450805  231500.0  45002     USA   HIROSHIMA    DOE  34.23  132.27  0.0   \n",
       "2  19450809   15800.0  45003     USA    NAGASAKI    DOE  32.45  129.52  0.0   \n",
       "3  19460630  220100.0  46001     USA      BIKINI    DOE  11.35  165.20  0.0   \n",
       "4  19460724  213500.0  46002     USA      BIKINI    DOE  11.35  165.20  0.0   \n",
       "5  19480414  181700.0  48001     USA    ENEWETAK    DOE  11.30  162.15  0.0   \n",
       "\n",
       "    Ms  depth  yield_lower  yield_upper purpose       name     type  \n",
       "0  0.0  -0.10         21.0         21.0      WR    TRINITY    TOWER  \n",
       "1  0.0  -0.60         15.0         15.0  COMBAT  LITTLEBOY  AIRDROP  \n",
       "2  0.0  -0.60         21.0         21.0  COMBAT     FATMAN  AIRDROP  \n",
       "3  0.0  -0.20         21.0         21.0      WE       ABLE  AIRDROP  \n",
       "4  0.0   0.03         21.0         21.0      WE      BAKER       UW  \n",
       "5  0.0  -0.08         37.0         37.0      WR      X-RAY    TOWER  "
      ]
     },
     "execution_count": 2,
     "metadata": {},
     "output_type": "execute_result"
    }
   ],
   "source": [
    "# Put your code here\n",
    "import pandas as pd\n",
    "\n",
    "data = pd.read_csv(\"nuclear-explosion-data.csv\")\n",
    "data.head(6)"
   ]
  },
  {
   "cell_type": "markdown",
   "metadata": {
    "pycharm": {
     "name": "#%% md\n"
    }
   },
   "source": [
    "This dataset contains more information that we care about at the moment. \n",
    "\n",
    "&#9989; **Question 2.2.2 (4 pts)**: Drop all the columns **except** `date, country, lat, long, yield_upper, purpose, type` ([hint](https://pandas.pydata.org/docs/reference/api/pandas.DataFrame.drop.html))\n"
   ]
  },
  {
   "cell_type": "code",
   "execution_count": 3,
   "metadata": {
    "pycharm": {
     "name": "#%%\n"
    }
   },
   "outputs": [],
   "source": [
    "# Put your code here\n",
    "data = data.drop(columns=['time', 'id', 'region', 'source', 'mb', 'Ms', 'depth', 'yield_lower', 'name'])"
   ]
  },
  {
   "cell_type": "code",
   "execution_count": 4,
   "metadata": {
    "pycharm": {
     "name": "#%%\n"
    }
   },
   "outputs": [
    {
     "data": {
      "text/html": [
       "<div>\n",
       "<style scoped>\n",
       "    .dataframe tbody tr th:only-of-type {\n",
       "        vertical-align: middle;\n",
       "    }\n",
       "\n",
       "    .dataframe tbody tr th {\n",
       "        vertical-align: top;\n",
       "    }\n",
       "\n",
       "    .dataframe thead th {\n",
       "        text-align: right;\n",
       "    }\n",
       "</style>\n",
       "<table border=\"1\" class=\"dataframe\">\n",
       "  <thead>\n",
       "    <tr style=\"text-align: right;\">\n",
       "      <th></th>\n",
       "      <th>date</th>\n",
       "      <th>country</th>\n",
       "      <th>lat</th>\n",
       "      <th>long</th>\n",
       "      <th>yield_upper</th>\n",
       "      <th>purpose</th>\n",
       "      <th>type</th>\n",
       "    </tr>\n",
       "  </thead>\n",
       "  <tbody>\n",
       "    <tr>\n",
       "      <th>0</th>\n",
       "      <td>1945-07-16</td>\n",
       "      <td>USA</td>\n",
       "      <td>32.54</td>\n",
       "      <td>-105.57</td>\n",
       "      <td>21.0</td>\n",
       "      <td>WR</td>\n",
       "      <td>TOWER</td>\n",
       "    </tr>\n",
       "    <tr>\n",
       "      <th>1</th>\n",
       "      <td>1945-08-05</td>\n",
       "      <td>USA</td>\n",
       "      <td>34.23</td>\n",
       "      <td>132.27</td>\n",
       "      <td>15.0</td>\n",
       "      <td>COMBAT</td>\n",
       "      <td>AIRDROP</td>\n",
       "    </tr>\n",
       "    <tr>\n",
       "      <th>2</th>\n",
       "      <td>1945-08-09</td>\n",
       "      <td>USA</td>\n",
       "      <td>32.45</td>\n",
       "      <td>129.52</td>\n",
       "      <td>21.0</td>\n",
       "      <td>COMBAT</td>\n",
       "      <td>AIRDROP</td>\n",
       "    </tr>\n",
       "    <tr>\n",
       "      <th>3</th>\n",
       "      <td>1946-06-30</td>\n",
       "      <td>USA</td>\n",
       "      <td>11.35</td>\n",
       "      <td>165.20</td>\n",
       "      <td>21.0</td>\n",
       "      <td>WE</td>\n",
       "      <td>AIRDROP</td>\n",
       "    </tr>\n",
       "    <tr>\n",
       "      <th>4</th>\n",
       "      <td>1946-07-24</td>\n",
       "      <td>USA</td>\n",
       "      <td>11.35</td>\n",
       "      <td>165.20</td>\n",
       "      <td>21.0</td>\n",
       "      <td>WE</td>\n",
       "      <td>UW</td>\n",
       "    </tr>\n",
       "  </tbody>\n",
       "</table>\n",
       "</div>"
      ],
      "text/plain": [
       "        date country    lat    long  yield_upper purpose     type\n",
       "0 1945-07-16     USA  32.54 -105.57         21.0      WR    TOWER\n",
       "1 1945-08-05     USA  34.23  132.27         15.0  COMBAT  AIRDROP\n",
       "2 1945-08-09     USA  32.45  129.52         21.0  COMBAT  AIRDROP\n",
       "3 1946-06-30     USA  11.35  165.20         21.0      WE  AIRDROP\n",
       "4 1946-07-24     USA  11.35  165.20         21.0      WE       UW"
      ]
     },
     "execution_count": 4,
     "metadata": {},
     "output_type": "execute_result"
    }
   ],
   "source": [
    "# Run this cell\n",
    "# Change the df to the name of your dataframe. \n",
    "data[\"date\"] = pd.to_datetime(data[\"date\"], format = \"%Y%m%d\", errors='coerce')\n",
    "data.head(5)"
   ]
  },
  {
   "cell_type": "markdown",
   "metadata": {
    "pycharm": {
     "name": "#%% md\n"
    }
   },
   "source": [
    "&#9989; **Question 2.2.3 (2 points)**: Use built-in Pandas functions to get a quick statistical summary of your data (e.g. the mean, standard deviation, min, max, etc) **group by country .**"
   ]
  },
  {
   "cell_type": "code",
   "execution_count": 5,
   "metadata": {
    "pycharm": {
     "name": "#%%\n"
    }
   },
   "outputs": [
    {
     "data": {
      "text/html": [
       "<div>\n",
       "<style scoped>\n",
       "    .dataframe tbody tr th:only-of-type {\n",
       "        vertical-align: middle;\n",
       "    }\n",
       "\n",
       "    .dataframe tbody tr th {\n",
       "        vertical-align: top;\n",
       "    }\n",
       "\n",
       "    .dataframe thead tr th {\n",
       "        text-align: left;\n",
       "    }\n",
       "\n",
       "    .dataframe thead tr:last-of-type th {\n",
       "        text-align: right;\n",
       "    }\n",
       "</style>\n",
       "<table border=\"1\" class=\"dataframe\">\n",
       "  <thead>\n",
       "    <tr>\n",
       "      <th></th>\n",
       "      <th colspan=\"8\" halign=\"left\">date</th>\n",
       "      <th colspan=\"2\" halign=\"left\">lat</th>\n",
       "      <th>...</th>\n",
       "      <th colspan=\"2\" halign=\"left\">long</th>\n",
       "      <th colspan=\"8\" halign=\"left\">yield_upper</th>\n",
       "    </tr>\n",
       "    <tr>\n",
       "      <th></th>\n",
       "      <th>count</th>\n",
       "      <th>mean</th>\n",
       "      <th>min</th>\n",
       "      <th>25%</th>\n",
       "      <th>50%</th>\n",
       "      <th>75%</th>\n",
       "      <th>max</th>\n",
       "      <th>std</th>\n",
       "      <th>count</th>\n",
       "      <th>mean</th>\n",
       "      <th>...</th>\n",
       "      <th>max</th>\n",
       "      <th>std</th>\n",
       "      <th>count</th>\n",
       "      <th>mean</th>\n",
       "      <th>min</th>\n",
       "      <th>25%</th>\n",
       "      <th>50%</th>\n",
       "      <th>75%</th>\n",
       "      <th>max</th>\n",
       "      <th>std</th>\n",
       "    </tr>\n",
       "    <tr>\n",
       "      <th>country</th>\n",
       "      <th></th>\n",
       "      <th></th>\n",
       "      <th></th>\n",
       "      <th></th>\n",
       "      <th></th>\n",
       "      <th></th>\n",
       "      <th></th>\n",
       "      <th></th>\n",
       "      <th></th>\n",
       "      <th></th>\n",
       "      <th></th>\n",
       "      <th></th>\n",
       "      <th></th>\n",
       "      <th></th>\n",
       "      <th></th>\n",
       "      <th></th>\n",
       "      <th></th>\n",
       "      <th></th>\n",
       "      <th></th>\n",
       "      <th></th>\n",
       "      <th></th>\n",
       "    </tr>\n",
       "  </thead>\n",
       "  <tbody>\n",
       "    <tr>\n",
       "      <th>CHINA</th>\n",
       "      <td>45</td>\n",
       "      <td>1979-11-16 00:32:00</td>\n",
       "      <td>1964-10-16 00:00:00</td>\n",
       "      <td>1971-11-18 00:00:00</td>\n",
       "      <td>1978-03-15 00:00:00</td>\n",
       "      <td>1988-09-29 00:00:00</td>\n",
       "      <td>1996-07-29 00:00:00</td>\n",
       "      <td>NaN</td>\n",
       "      <td>45.0</td>\n",
       "      <td>41.407689</td>\n",
       "      <td>...</td>\n",
       "      <td>89.94</td>\n",
       "      <td>0.354505</td>\n",
       "      <td>43.0</td>\n",
       "      <td>602.930233</td>\n",
       "      <td>0.000</td>\n",
       "      <td>20.00</td>\n",
       "      <td>70.0</td>\n",
       "      <td>200.00</td>\n",
       "      <td>8000.0</td>\n",
       "      <td>1476.999861</td>\n",
       "    </tr>\n",
       "    <tr>\n",
       "      <th>FRANCE</th>\n",
       "      <td>210</td>\n",
       "      <td>1979-07-10 21:01:42.857142848</td>\n",
       "      <td>1960-02-13 00:00:00</td>\n",
       "      <td>1973-09-01 00:00:00</td>\n",
       "      <td>1980-05-10 12:00:00</td>\n",
       "      <td>1985-11-16 18:00:00</td>\n",
       "      <td>1996-01-27 00:00:00</td>\n",
       "      <td>NaN</td>\n",
       "      <td>210.0</td>\n",
       "      <td>-17.215486</td>\n",
       "      <td>...</td>\n",
       "      <td>5.40</td>\n",
       "      <td>46.704772</td>\n",
       "      <td>208.0</td>\n",
       "      <td>103.413462</td>\n",
       "      <td>0.000</td>\n",
       "      <td>5.00</td>\n",
       "      <td>20.0</td>\n",
       "      <td>150.00</td>\n",
       "      <td>1000.0</td>\n",
       "      <td>212.826350</td>\n",
       "    </tr>\n",
       "    <tr>\n",
       "      <th>INDIA</th>\n",
       "      <td>3</td>\n",
       "      <td>1990-05-14 00:00:00</td>\n",
       "      <td>1974-05-18 00:00:00</td>\n",
       "      <td>1986-05-14 12:00:00</td>\n",
       "      <td>1998-05-11 00:00:00</td>\n",
       "      <td>1998-05-12 00:00:00</td>\n",
       "      <td>1998-05-13 00:00:00</td>\n",
       "      <td>NaN</td>\n",
       "      <td>3.0</td>\n",
       "      <td>27.013333</td>\n",
       "      <td>...</td>\n",
       "      <td>71.70</td>\n",
       "      <td>0.000000</td>\n",
       "      <td>3.0</td>\n",
       "      <td>13.666667</td>\n",
       "      <td>1.000</td>\n",
       "      <td>10.50</td>\n",
       "      <td>20.0</td>\n",
       "      <td>20.00</td>\n",
       "      <td>20.0</td>\n",
       "      <td>10.969655</td>\n",
       "    </tr>\n",
       "    <tr>\n",
       "      <th>PAKISTAN</th>\n",
       "      <td>2</td>\n",
       "      <td>1998-05-29 00:00:00</td>\n",
       "      <td>1998-05-28 00:00:00</td>\n",
       "      <td>1998-05-28 12:00:00</td>\n",
       "      <td>1998-05-29 00:00:00</td>\n",
       "      <td>1998-05-29 12:00:00</td>\n",
       "      <td>1998-05-30 00:00:00</td>\n",
       "      <td>NaN</td>\n",
       "      <td>2.0</td>\n",
       "      <td>28.695000</td>\n",
       "      <td>...</td>\n",
       "      <td>64.89</td>\n",
       "      <td>0.784889</td>\n",
       "      <td>2.0</td>\n",
       "      <td>26.500000</td>\n",
       "      <td>18.000</td>\n",
       "      <td>22.25</td>\n",
       "      <td>26.5</td>\n",
       "      <td>30.75</td>\n",
       "      <td>35.0</td>\n",
       "      <td>12.020815</td>\n",
       "    </tr>\n",
       "    <tr>\n",
       "      <th>UK</th>\n",
       "      <td>45</td>\n",
       "      <td>1968-10-19 14:56:00</td>\n",
       "      <td>1952-10-03 00:00:00</td>\n",
       "      <td>1957-06-19 00:00:00</td>\n",
       "      <td>1962-12-07 00:00:00</td>\n",
       "      <td>1980-12-17 00:00:00</td>\n",
       "      <td>1991-11-26 00:00:00</td>\n",
       "      <td>NaN</td>\n",
       "      <td>45.0</td>\n",
       "      <td>12.478356</td>\n",
       "      <td>...</td>\n",
       "      <td>132.35</td>\n",
       "      <td>114.862560</td>\n",
       "      <td>45.0</td>\n",
       "      <td>240.177778</td>\n",
       "      <td>0.000</td>\n",
       "      <td>20.00</td>\n",
       "      <td>150.0</td>\n",
       "      <td>150.00</td>\n",
       "      <td>3000.0</td>\n",
       "      <td>529.986322</td>\n",
       "    </tr>\n",
       "    <tr>\n",
       "      <th>USA</th>\n",
       "      <td>1032</td>\n",
       "      <td>1969-02-28 02:18:08.372093024</td>\n",
       "      <td>1945-07-16 00:00:00</td>\n",
       "      <td>1962-06-21 18:00:00</td>\n",
       "      <td>1967-10-25 00:00:00</td>\n",
       "      <td>1975-06-20 18:00:00</td>\n",
       "      <td>1992-09-23 00:00:00</td>\n",
       "      <td>NaN</td>\n",
       "      <td>1032.0</td>\n",
       "      <td>33.928203</td>\n",
       "      <td>...</td>\n",
       "      <td>179.22</td>\n",
       "      <td>72.668018</td>\n",
       "      <td>1031.0</td>\n",
       "      <td>225.937476</td>\n",
       "      <td>0.000</td>\n",
       "      <td>20.00</td>\n",
       "      <td>20.0</td>\n",
       "      <td>150.00</td>\n",
       "      <td>15000.0</td>\n",
       "      <td>1093.912025</td>\n",
       "    </tr>\n",
       "    <tr>\n",
       "      <th>USSR</th>\n",
       "      <td>714</td>\n",
       "      <td>1971-11-27 19:11:35.798319328</td>\n",
       "      <td>1949-08-29 00:00:00</td>\n",
       "      <td>1962-10-10 18:00:00</td>\n",
       "      <td>1972-04-04 00:00:00</td>\n",
       "      <td>1979-10-22 12:00:00</td>\n",
       "      <td>1990-10-24 00:00:00</td>\n",
       "      <td>NaN</td>\n",
       "      <td>714.0</td>\n",
       "      <td>54.114804</td>\n",
       "      <td>...</td>\n",
       "      <td>125.34</td>\n",
       "      <td>15.777989</td>\n",
       "      <td>714.0</td>\n",
       "      <td>518.852004</td>\n",
       "      <td>0.001</td>\n",
       "      <td>8.50</td>\n",
       "      <td>20.0</td>\n",
       "      <td>150.00</td>\n",
       "      <td>50000.0</td>\n",
       "      <td>3186.714096</td>\n",
       "    </tr>\n",
       "  </tbody>\n",
       "</table>\n",
       "<p>7 rows × 32 columns</p>\n",
       "</div>"
      ],
      "text/plain": [
       "          date                                                      \\\n",
       "         count                           mean                  min   \n",
       "country                                                              \n",
       "CHINA       45            1979-11-16 00:32:00  1964-10-16 00:00:00   \n",
       "FRANCE     210  1979-07-10 21:01:42.857142848  1960-02-13 00:00:00   \n",
       "INDIA        3            1990-05-14 00:00:00  1974-05-18 00:00:00   \n",
       "PAKISTAN     2            1998-05-29 00:00:00  1998-05-28 00:00:00   \n",
       "UK          45            1968-10-19 14:56:00  1952-10-03 00:00:00   \n",
       "USA       1032  1969-02-28 02:18:08.372093024  1945-07-16 00:00:00   \n",
       "USSR       714  1971-11-27 19:11:35.798319328  1949-08-29 00:00:00   \n",
       "\n",
       "                                                                         \\\n",
       "                          25%                  50%                  75%   \n",
       "country                                                                   \n",
       "CHINA     1971-11-18 00:00:00  1978-03-15 00:00:00  1988-09-29 00:00:00   \n",
       "FRANCE    1973-09-01 00:00:00  1980-05-10 12:00:00  1985-11-16 18:00:00   \n",
       "INDIA     1986-05-14 12:00:00  1998-05-11 00:00:00  1998-05-12 00:00:00   \n",
       "PAKISTAN  1998-05-28 12:00:00  1998-05-29 00:00:00  1998-05-29 12:00:00   \n",
       "UK        1957-06-19 00:00:00  1962-12-07 00:00:00  1980-12-17 00:00:00   \n",
       "USA       1962-06-21 18:00:00  1967-10-25 00:00:00  1975-06-20 18:00:00   \n",
       "USSR      1962-10-10 18:00:00  1972-04-04 00:00:00  1979-10-22 12:00:00   \n",
       "\n",
       "                                       lat             ...    long  \\\n",
       "                          max  std   count       mean  ...     max   \n",
       "country                                                ...           \n",
       "CHINA     1996-07-29 00:00:00  NaN    45.0  41.407689  ...   89.94   \n",
       "FRANCE    1996-01-27 00:00:00  NaN   210.0 -17.215486  ...    5.40   \n",
       "INDIA     1998-05-13 00:00:00  NaN     3.0  27.013333  ...   71.70   \n",
       "PAKISTAN  1998-05-30 00:00:00  NaN     2.0  28.695000  ...   64.89   \n",
       "UK        1991-11-26 00:00:00  NaN    45.0  12.478356  ...  132.35   \n",
       "USA       1992-09-23 00:00:00  NaN  1032.0  33.928203  ...  179.22   \n",
       "USSR      1990-10-24 00:00:00  NaN   714.0  54.114804  ...  125.34   \n",
       "\n",
       "                     yield_upper                                            \\\n",
       "                 std       count        mean     min    25%    50%     75%   \n",
       "country                                                                      \n",
       "CHINA       0.354505        43.0  602.930233   0.000  20.00   70.0  200.00   \n",
       "FRANCE     46.704772       208.0  103.413462   0.000   5.00   20.0  150.00   \n",
       "INDIA       0.000000         3.0   13.666667   1.000  10.50   20.0   20.00   \n",
       "PAKISTAN    0.784889         2.0   26.500000  18.000  22.25   26.5   30.75   \n",
       "UK        114.862560        45.0  240.177778   0.000  20.00  150.0  150.00   \n",
       "USA        72.668018      1031.0  225.937476   0.000  20.00   20.0  150.00   \n",
       "USSR       15.777989       714.0  518.852004   0.001   8.50   20.0  150.00   \n",
       "\n",
       "                                \n",
       "              max          std  \n",
       "country                         \n",
       "CHINA      8000.0  1476.999861  \n",
       "FRANCE     1000.0   212.826350  \n",
       "INDIA        20.0    10.969655  \n",
       "PAKISTAN     35.0    12.020815  \n",
       "UK         3000.0   529.986322  \n",
       "USA       15000.0  1093.912025  \n",
       "USSR      50000.0  3186.714096  \n",
       "\n",
       "[7 rows x 32 columns]"
      ]
     },
     "execution_count": 5,
     "metadata": {},
     "output_type": "execute_result"
    }
   ],
   "source": [
    "# Put your code here\n",
    "groupedData = data.groupby('country')\n",
    "groupedData.describe()"
   ]
  },
  {
   "cell_type": "markdown",
   "metadata": {
    "pycharm": {
     "name": "#%% md\n"
    }
   },
   "source": [
    "&#9989; **Question 2.2.4 (2 points)**: Looking at the above output, answer the following questions: \n",
    "\n",
    "1. What countries have used nuclear weapons?\n",
    "2. How many weapons did the USA use?\n"
   ]
  },
  {
   "cell_type": "markdown",
   "metadata": {
    "pycharm": {
     "name": "#%% md\n"
    }
   },
   "source": [
    "**<font size=+3>&#9998;</font> Do This**: *China, France, India, Pakistan, UK, USA, and the USSR are countries that have used nuclear weapons. The USA has used 1032.*\n",
    "\n"
   ]
  },
  {
   "cell_type": "markdown",
   "metadata": {
    "pycharm": {
     "name": "#%% md\n"
    }
   },
   "source": [
    "&#9989; **Question 2.3 (7 points)**: Using `seaborn` make an histogram ([_Hint_](https://seaborn.pydata.org/examples/index.html) ) : \n",
    "\n",
    "1. with the `date` as the `x` axis\n",
    "\n",
    "2. set the `bins` option equal to 45\n",
    "\n",
    "3. set the `hue` option equal to `country`. \n",
    "\n",
    "4. make the figure size equal to 12, 10\n",
    "\n",
    "5. set the `palette` option equal to `\"Dark2\"`. Or changing it to your preference [Link to colors](https://matplotlib.org/stable/tutorials/colors/colormaps.html)"
   ]
  },
  {
   "cell_type": "code",
   "execution_count": 6,
   "metadata": {
    "pycharm": {
     "name": "#%%\n"
    }
   },
   "outputs": [
    {
     "data": {
      "image/png": "[encoded data removed]",
      "text/plain": [
       "<Figure size 1200x1000 with 1 Axes>"
      ]
     },
     "metadata": {},
     "output_type": "display_data"
    }
   ],
   "source": [
    "import matplotlib.pyplot as plt\n",
    "import seaborn as sns\n",
    "\n",
    "fig = plt.figure(figsize=[12,10])\n",
    "sns.histplot(data=data, x=data['date'], hue=data['country'], bins=45, palette='Dark2')\n",
    "sns.set_context(\"talk\")\n",
    "\n",
    "fig = plt.xticks(rotation = 40) # This line rotates the ticks of the x-axis so that they are easy to read."
   ]
  },
  {
   "cell_type": "markdown",
   "metadata": {
    "pycharm": {
     "name": "#%% md\n"
    }
   },
   "source": [
    "&#9989; **Question 2.3.1 (2 points)**: Looking at the above output, answer the following questions: \n",
    "\n",
    "1. What country used nuclear weapons in 1960?\n",
    "2. What country was the last to use nuclear weapons? Use some code to check that you had the right answer.\n"
   ]
  },
  {
   "cell_type": "markdown",
   "metadata": {
    "pycharm": {
     "name": "#%% md\n"
    }
   },
   "source": [
    "**<font size=+3>&#9998;</font> Do This**: *France used nuclear weapons in 1960. It appears that pakistan was the last country to use nuclear weapons.*\n",
    "\n"
   ]
  },
  {
   "cell_type": "code",
   "execution_count": 7,
   "metadata": {},
   "outputs": [
    {
     "name": "stdout",
     "output_type": "stream",
     "text": [
      "date           1998-05-30 00:00:00\n",
      "country                   PAKISTAN\n",
      "lat                          28.49\n",
      "long                         63.78\n",
      "yield_upper                   18.0\n",
      "purpose                         WR\n",
      "type                            UG\n",
      "Name: 2050, dtype: object\n"
     ]
    }
   ],
   "source": [
    "#dataset is sorted by date, so this is latest use.\n",
    "print(data.iloc[-1])"
   ]
  },
  {
   "cell_type": "markdown",
   "metadata": {
    "pycharm": {
     "name": "#%% md\n"
    }
   },
   "source": [
    "---\n",
    "### &#128721; STOP\n",
    "**Pause to commit your changes to your Git repository! (1 point)**\n",
    "\n",
    "Take a moment to save your notebook, commit the changes to your Git repository using the commit message \"**Committing Part 2**\", and push the changes to GitHub.\n",
    "\n",
    "---"
   ]
  },
  {
   "cell_type": "markdown",
   "metadata": {
    "pycharm": {
     "name": "#%% md\n"
    }
   },
   "source": [
    "---\n",
    "# Part 3: Working with a less familiar Python package (9 points)\n",
    "\n",
    "In this part of the exam you will need to review a bit of documentation from either a Python package that you've explored a bit this semester or a new one."
   ]
  },
  {
   "cell_type": "markdown",
   "metadata": {
    "pycharm": {
     "name": "#%% md\n"
    }
   },
   "source": [
    "Let's say you like plasma physics and decide to write a python library for it, but you find out that someone has already started working on a library for plasmas and they called it `plasmapy`. Here is the [documentation.](https://docs.plasmapy.org/en/stable/index.html)"
   ]
  },
  {
   "cell_type": "markdown",
   "metadata": {
    "pycharm": {
     "name": "#%% md\n"
    }
   },
   "source": [
    "&#9989; **Question 3.1.1 (1 point)**: To start, install `plasmapy` using `pip` or `conda` . "
   ]
  },
  {
   "cell_type": "code",
   "execution_count": 8,
   "metadata": {
    "pycharm": {
     "name": "#%%\n"
    }
   },
   "outputs": [
    {
     "name": "stdout",
     "output_type": "stream",
     "text": [
      "Defaulting to user installation because normal site-packages is not writeable\n",
      "Requirement already satisfied: plasmapy in /home/cianci13/.local/lib/python3.11/site-packages (2024.7.0)\n",
      "Requirement already satisfied: astropy>=5.1 in /home/cianci13/.local/lib/python3.11/site-packages (from plasmapy) (6.1.4)\n",
      "Requirement already satisfied: h5py>=3.7.0 in /home/cianci13/.local/lib/python3.11/site-packages (from plasmapy) (3.12.1)\n",
      "Requirement already satisfied: ipykernel>=5.5.6 in /opt/miniconda3/lib/python3.11/site-packages (from plasmapy) (6.29.5)\n",
      "Requirement already satisfied: ipywidgets>=6.0.0 in /opt/miniconda3/lib/python3.11/site-packages (from plasmapy) (8.1.3)\n",
      "Requirement already satisfied: lmfit>=1.1.0 in /home/cianci13/.local/lib/python3.11/site-packages (from plasmapy) (1.3.2)\n",
      "Requirement already satisfied: matplotlib>=3.6.0 in /home/cianci13/.local/lib/python3.11/site-packages (from plasmapy) (3.7.1)\n",
      "Requirement already satisfied: mpmath>=1.2.1 in /opt/miniconda3/lib/python3.11/site-packages (from plasmapy) (1.3.0)\n",
      "Requirement already satisfied: numba>=0.57.0 in /home/cianci13/.local/lib/python3.11/site-packages (from plasmapy) (0.60.0)\n",
      "Requirement already satisfied: numpy>=1.24.0 in /opt/miniconda3/lib/python3.11/site-packages (from plasmapy) (1.26.4)\n",
      "Requirement already satisfied: packaging>=22.0 in /opt/miniconda3/lib/python3.11/site-packages (from plasmapy) (24.1)\n",
      "Requirement already satisfied: pandas>=1.5.0 in /opt/miniconda3/lib/python3.11/site-packages (from plasmapy) (2.2.2)\n",
      "Requirement already satisfied: requests>=2.28.0 in /opt/miniconda3/lib/python3.11/site-packages (from plasmapy) (2.31.0)\n",
      "Requirement already satisfied: scipy>=1.9.0 in /opt/miniconda3/lib/python3.11/site-packages (from plasmapy) (1.14.0)\n",
      "Requirement already satisfied: setuptools>=61.2.0 in /opt/miniconda3/lib/python3.11/site-packages (from plasmapy) (72.1.0)\n",
      "Requirement already satisfied: tqdm>=4.65.0 in /opt/miniconda3/lib/python3.11/site-packages (from plasmapy) (4.66.5)\n",
      "Requirement already satisfied: voila>=0.2.7 in /home/cianci13/.local/lib/python3.11/site-packages (from plasmapy) (0.5.7)\n",
      "Requirement already satisfied: wrapt>=1.14.0 in /home/cianci13/.local/lib/python3.11/site-packages (from plasmapy) (1.16.0)\n",
      "Requirement already satisfied: xarray>=2022.6.0 in /home/cianci13/.local/lib/python3.11/site-packages (from plasmapy) (2024.9.0)\n",
      "Requirement already satisfied: pyerfa>=2.0.1.1 in /home/cianci13/.local/lib/python3.11/site-packages (from astropy>=5.1->plasmapy) (2.0.1.4)\n",
      "Requirement already satisfied: astropy-iers-data>=0.2024.8.27.10.28.29 in /home/cianci13/.local/lib/python3.11/site-packages (from astropy>=5.1->plasmapy) (0.2024.10.14.0.32.55)\n",
      "Requirement already satisfied: PyYAML>=3.13 in /opt/miniconda3/lib/python3.11/site-packages (from astropy>=5.1->plasmapy) (6.0.2)\n",
      "Requirement already satisfied: comm>=0.1.1 in /opt/miniconda3/lib/python3.11/site-packages (from ipykernel>=5.5.6->plasmapy) (0.2.2)\n",
      "Requirement already satisfied: debugpy>=1.6.5 in /opt/miniconda3/lib/python3.11/site-packages (from ipykernel>=5.5.6->plasmapy) (1.8.5)\n",
      "Requirement already satisfied: ipython>=7.23.1 in /opt/miniconda3/lib/python3.11/site-packages (from ipykernel>=5.5.6->plasmapy) (8.26.0)\n",
      "Requirement already satisfied: jupyter-client>=6.1.12 in /opt/miniconda3/lib/python3.11/site-packages (from ipykernel>=5.5.6->plasmapy) (8.6.2)\n",
      "Requirement already satisfied: jupyter-core!=5.0.*,>=4.12 in /opt/miniconda3/lib/python3.11/site-packages (from ipykernel>=5.5.6->plasmapy) (5.7.2)\n",
      "Requirement already satisfied: matplotlib-inline>=0.1 in /opt/miniconda3/lib/python3.11/site-packages (from ipykernel>=5.5.6->plasmapy) (0.1.7)\n",
      "Requirement already satisfied: nest-asyncio in /opt/miniconda3/lib/python3.11/site-packages (from ipykernel>=5.5.6->plasmapy) (1.6.0)\n",
      "Requirement already satisfied: psutil in /opt/miniconda3/lib/python3.11/site-packages (from ipykernel>=5.5.6->plasmapy) (5.9.8)\n",
      "Requirement already satisfied: pyzmq>=24 in /opt/miniconda3/lib/python3.11/site-packages (from ipykernel>=5.5.6->plasmapy) (26.1.1)\n",
      "Requirement already satisfied: tornado>=6.1 in /opt/miniconda3/lib/python3.11/site-packages (from ipykernel>=5.5.6->plasmapy) (6.4.1)\n",
      "Requirement already satisfied: traitlets>=5.4.0 in /opt/miniconda3/lib/python3.11/site-packages (from ipykernel>=5.5.6->plasmapy) (5.14.3)\n",
      "Requirement already satisfied: widgetsnbextension~=4.0.11 in /opt/miniconda3/lib/python3.11/site-packages (from ipywidgets>=6.0.0->plasmapy) (4.0.11)\n",
      "Requirement already satisfied: jupyterlab-widgets~=3.0.11 in /opt/miniconda3/lib/python3.11/site-packages (from ipywidgets>=6.0.0->plasmapy) (3.0.11)\n",
      "Requirement already satisfied: asteval>=1.0 in /home/cianci13/.local/lib/python3.11/site-packages (from lmfit>=1.1.0->plasmapy) (1.0.5)\n",
      "Requirement already satisfied: uncertainties>=3.2.2 in /home/cianci13/.local/lib/python3.11/site-packages (from lmfit>=1.1.0->plasmapy) (3.2.2)\n",
      "Requirement already satisfied: dill>=0.3.4 in /opt/miniconda3/lib/python3.11/site-packages (from lmfit>=1.1.0->plasmapy) (0.3.8)\n",
      "Requirement already satisfied: contourpy>=1.0.1 in /opt/miniconda3/lib/python3.11/site-packages (from matplotlib>=3.6.0->plasmapy) (1.2.1)\n",
      "Requirement already satisfied: cycler>=0.10 in /opt/miniconda3/lib/python3.11/site-packages (from matplotlib>=3.6.0->plasmapy) (0.12.1)\n",
      "Requirement already satisfied: fonttools>=4.22.0 in /opt/miniconda3/lib/python3.11/site-packages (from matplotlib>=3.6.0->plasmapy) (4.53.1)\n",
      "Requirement already satisfied: kiwisolver>=1.0.1 in /opt/miniconda3/lib/python3.11/site-packages (from matplotlib>=3.6.0->plasmapy) (1.4.5)\n",
      "Requirement already satisfied: pillow>=6.2.0 in /opt/miniconda3/lib/python3.11/site-packages (from matplotlib>=3.6.0->plasmapy) (10.4.0)\n",
      "Requirement already satisfied: pyparsing>=2.3.1 in /opt/miniconda3/lib/python3.11/site-packages (from matplotlib>=3.6.0->plasmapy) (3.1.2)\n",
      "Requirement already satisfied: python-dateutil>=2.7 in /opt/miniconda3/lib/python3.11/site-packages (from matplotlib>=3.6.0->plasmapy) (2.9.0)\n",
      "Requirement already satisfied: llvmlite<0.44,>=0.43.0dev0 in /home/cianci13/.local/lib/python3.11/site-packages (from numba>=0.57.0->plasmapy) (0.43.0)\n",
      "Requirement already satisfied: pytz>=2020.1 in /opt/miniconda3/lib/python3.11/site-packages (from pandas>=1.5.0->plasmapy) (2024.1)\n",
      "Requirement already satisfied: tzdata>=2022.7 in /opt/miniconda3/lib/python3.11/site-packages (from pandas>=1.5.0->plasmapy) (2024.1)\n",
      "Requirement already satisfied: charset-normalizer<4,>=2 in /opt/miniconda3/lib/python3.11/site-packages (from requests>=2.28.0->plasmapy) (3.3.2)\n",
      "Requirement already satisfied: idna<4,>=2.5 in /opt/miniconda3/lib/python3.11/site-packages (from requests>=2.28.0->plasmapy) (3.7)\n",
      "Requirement already satisfied: urllib3<3,>=1.21.1 in /opt/miniconda3/lib/python3.11/site-packages (from requests>=2.28.0->plasmapy) (1.26.19)\n",
      "Requirement already satisfied: certifi>=2017.4.17 in /opt/miniconda3/lib/python3.11/site-packages (from requests>=2.28.0->plasmapy) (2024.8.30)\n",
      "Requirement already satisfied: jupyter-server<3,>=2.0.0 in /opt/miniconda3/lib/python3.11/site-packages (from voila>=0.2.7->plasmapy) (2.14.2)\n",
      "Requirement already satisfied: jupyterlab-server<3,>=2.3.0 in /opt/miniconda3/lib/python3.11/site-packages (from voila>=0.2.7->plasmapy) (2.27.3)\n",
      "Requirement already satisfied: nbclient>=0.4.0 in /opt/miniconda3/lib/python3.11/site-packages (from voila>=0.2.7->plasmapy) (0.10.0)\n",
      "Requirement already satisfied: nbconvert<8,>=6.4.5 in /opt/miniconda3/lib/python3.11/site-packages (from voila>=0.2.7->plasmapy) (7.8.0)\n",
      "Requirement already satisfied: websockets>=9.0 in /opt/miniconda3/lib/python3.11/site-packages (from voila>=0.2.7->plasmapy) (10.4)\n",
      "Requirement already satisfied: decorator in /opt/miniconda3/lib/python3.11/site-packages (from ipython>=7.23.1->ipykernel>=5.5.6->plasmapy) (5.1.1)\n",
      "Requirement already satisfied: jedi>=0.16 in /opt/miniconda3/lib/python3.11/site-packages (from ipython>=7.23.1->ipykernel>=5.5.6->plasmapy) (0.19.1)\n",
      "Requirement already satisfied: prompt-toolkit<3.1.0,>=3.0.41 in /opt/miniconda3/lib/python3.11/site-packages (from ipython>=7.23.1->ipykernel>=5.5.6->plasmapy) (3.0.47)\n",
      "Requirement already satisfied: pygments>=2.4.0 in /opt/miniconda3/lib/python3.11/site-packages (from ipython>=7.23.1->ipykernel>=5.5.6->plasmapy) (2.18.0)\n",
      "Requirement already satisfied: stack-data in /opt/miniconda3/lib/python3.11/site-packages (from ipython>=7.23.1->ipykernel>=5.5.6->plasmapy) (0.6.2)\n",
      "Requirement already satisfied: typing-extensions>=4.6 in /opt/miniconda3/lib/python3.11/site-packages (from ipython>=7.23.1->ipykernel>=5.5.6->plasmapy) (4.12.2)\n",
      "Requirement already satisfied: pexpect>4.3 in /opt/miniconda3/lib/python3.11/site-packages (from ipython>=7.23.1->ipykernel>=5.5.6->plasmapy) (4.9.0)\n",
      "Requirement already satisfied: platformdirs>=2.5 in /opt/miniconda3/lib/python3.11/site-packages (from jupyter-core!=5.0.*,>=4.12->ipykernel>=5.5.6->plasmapy) (4.2.2)\n",
      "Requirement already satisfied: anyio>=3.1.0 in /opt/miniconda3/lib/python3.11/site-packages (from jupyter-server<3,>=2.0.0->voila>=0.2.7->plasmapy) (4.4.0)\n",
      "Requirement already satisfied: argon2-cffi>=21.1 in /opt/miniconda3/lib/python3.11/site-packages (from jupyter-server<3,>=2.0.0->voila>=0.2.7->plasmapy) (23.1.0)\n",
      "Requirement already satisfied: jinja2>=3.0.3 in /opt/miniconda3/lib/python3.11/site-packages (from jupyter-server<3,>=2.0.0->voila>=0.2.7->plasmapy) (3.1.4)\n",
      "Requirement already satisfied: jupyter-events>=0.9.0 in /opt/miniconda3/lib/python3.11/site-packages (from jupyter-server<3,>=2.0.0->voila>=0.2.7->plasmapy) (0.10.0)\n",
      "Requirement already satisfied: jupyter-server-terminals>=0.4.4 in /opt/miniconda3/lib/python3.11/site-packages (from jupyter-server<3,>=2.0.0->voila>=0.2.7->plasmapy) (0.5.3)\n",
      "Requirement already satisfied: nbformat>=5.3.0 in /opt/miniconda3/lib/python3.11/site-packages (from jupyter-server<3,>=2.0.0->voila>=0.2.7->plasmapy) (5.10.4)\n",
      "Requirement already satisfied: overrides>=5.0 in /opt/miniconda3/lib/python3.11/site-packages (from jupyter-server<3,>=2.0.0->voila>=0.2.7->plasmapy) (7.7.0)\n",
      "Requirement already satisfied: prometheus-client>=0.9 in /opt/miniconda3/lib/python3.11/site-packages (from jupyter-server<3,>=2.0.0->voila>=0.2.7->plasmapy) (0.20.0)\n",
      "Requirement already satisfied: send2trash>=1.8.2 in /opt/miniconda3/lib/python3.11/site-packages (from jupyter-server<3,>=2.0.0->voila>=0.2.7->plasmapy) (1.8.3)\n",
      "Requirement already satisfied: terminado>=0.8.3 in /opt/miniconda3/lib/python3.11/site-packages (from jupyter-server<3,>=2.0.0->voila>=0.2.7->plasmapy) (0.18.1)\n",
      "Requirement already satisfied: websocket-client>=1.7 in /opt/miniconda3/lib/python3.11/site-packages (from jupyter-server<3,>=2.0.0->voila>=0.2.7->plasmapy) (1.8.0)\n",
      "Requirement already satisfied: babel>=2.10 in /opt/miniconda3/lib/python3.11/site-packages (from jupyterlab-server<3,>=2.3.0->voila>=0.2.7->plasmapy) (2.14.0)\n",
      "Requirement already satisfied: json5>=0.9.0 in /opt/miniconda3/lib/python3.11/site-packages (from jupyterlab-server<3,>=2.3.0->voila>=0.2.7->plasmapy) (0.9.25)\n",
      "Requirement already satisfied: jsonschema>=4.18.0 in /opt/miniconda3/lib/python3.11/site-packages (from jupyterlab-server<3,>=2.3.0->voila>=0.2.7->plasmapy) (4.23.0)\n",
      "Requirement already satisfied: beautifulsoup4 in /opt/miniconda3/lib/python3.11/site-packages (from nbconvert<8,>=6.4.5->voila>=0.2.7->plasmapy) (4.12.3)\n",
      "Requirement already satisfied: bleach!=5.0.0 in /opt/miniconda3/lib/python3.11/site-packages (from nbconvert<8,>=6.4.5->voila>=0.2.7->plasmapy) (6.1.0)\n",
      "Requirement already satisfied: defusedxml in /opt/miniconda3/lib/python3.11/site-packages (from nbconvert<8,>=6.4.5->voila>=0.2.7->plasmapy) (0.7.1)\n",
      "Requirement already satisfied: jupyterlab-pygments in /opt/miniconda3/lib/python3.11/site-packages (from nbconvert<8,>=6.4.5->voila>=0.2.7->plasmapy) (0.3.0)\n",
      "Requirement already satisfied: markupsafe>=2.0 in /opt/miniconda3/lib/python3.11/site-packages (from nbconvert<8,>=6.4.5->voila>=0.2.7->plasmapy) (2.1.5)\n",
      "Requirement already satisfied: mistune<4,>=2.0.3 in /opt/miniconda3/lib/python3.11/site-packages (from nbconvert<8,>=6.4.5->voila>=0.2.7->plasmapy) (3.0.2)\n",
      "Requirement already satisfied: pandocfilters>=1.4.1 in /opt/miniconda3/lib/python3.11/site-packages (from nbconvert<8,>=6.4.5->voila>=0.2.7->plasmapy) (1.5.0)\n",
      "Requirement already satisfied: tinycss2 in /opt/miniconda3/lib/python3.11/site-packages (from nbconvert<8,>=6.4.5->voila>=0.2.7->plasmapy) (1.3.0)\n",
      "Requirement already satisfied: six>=1.5 in /opt/miniconda3/lib/python3.11/site-packages (from python-dateutil>=2.7->matplotlib>=3.6.0->plasmapy) (1.16.0)\n",
      "Requirement already satisfied: sniffio>=1.1 in /opt/miniconda3/lib/python3.11/site-packages (from anyio>=3.1.0->jupyter-server<3,>=2.0.0->voila>=0.2.7->plasmapy) (1.3.1)\n",
      "Requirement already satisfied: argon2-cffi-bindings in /opt/miniconda3/lib/python3.11/site-packages (from argon2-cffi>=21.1->jupyter-server<3,>=2.0.0->voila>=0.2.7->plasmapy) (21.2.0)\n",
      "Requirement already satisfied: webencodings in /opt/miniconda3/lib/python3.11/site-packages (from bleach!=5.0.0->nbconvert<8,>=6.4.5->voila>=0.2.7->plasmapy) (0.5.1)\n",
      "Requirement already satisfied: parso<0.9.0,>=0.8.3 in /opt/miniconda3/lib/python3.11/site-packages (from jedi>=0.16->ipython>=7.23.1->ipykernel>=5.5.6->plasmapy) (0.8.4)\n",
      "Requirement already satisfied: attrs>=22.2.0 in /opt/miniconda3/lib/python3.11/site-packages (from jsonschema>=4.18.0->jupyterlab-server<3,>=2.3.0->voila>=0.2.7->plasmapy) (24.2.0)\n",
      "Requirement already satisfied: jsonschema-specifications>=2023.03.6 in /opt/miniconda3/lib/python3.11/site-packages (from jsonschema>=4.18.0->jupyterlab-server<3,>=2.3.0->voila>=0.2.7->plasmapy) (2023.12.1)\n",
      "Requirement already satisfied: referencing>=0.28.4 in /opt/miniconda3/lib/python3.11/site-packages (from jsonschema>=4.18.0->jupyterlab-server<3,>=2.3.0->voila>=0.2.7->plasmapy) (0.35.1)\n",
      "Requirement already satisfied: rpds-py>=0.7.1 in /opt/miniconda3/lib/python3.11/site-packages (from jsonschema>=4.18.0->jupyterlab-server<3,>=2.3.0->voila>=0.2.7->plasmapy) (0.20.0)\n",
      "Requirement already satisfied: python-json-logger>=2.0.4 in /opt/miniconda3/lib/python3.11/site-packages (from jupyter-events>=0.9.0->jupyter-server<3,>=2.0.0->voila>=0.2.7->plasmapy) (2.0.7)\n",
      "Requirement already satisfied: rfc3339-validator in /opt/miniconda3/lib/python3.11/site-packages (from jupyter-events>=0.9.0->jupyter-server<3,>=2.0.0->voila>=0.2.7->plasmapy) (0.1.4)\n",
      "Requirement already satisfied: rfc3986-validator>=0.1.1 in /opt/miniconda3/lib/python3.11/site-packages (from jupyter-events>=0.9.0->jupyter-server<3,>=2.0.0->voila>=0.2.7->plasmapy) (0.1.1)\n",
      "Requirement already satisfied: fastjsonschema>=2.15 in /opt/miniconda3/lib/python3.11/site-packages (from nbformat>=5.3.0->jupyter-server<3,>=2.0.0->voila>=0.2.7->plasmapy) (2.20.0)\n",
      "Requirement already satisfied: ptyprocess>=0.5 in /opt/miniconda3/lib/python3.11/site-packages (from pexpect>4.3->ipython>=7.23.1->ipykernel>=5.5.6->plasmapy) (0.7.0)\n",
      "Requirement already satisfied: wcwidth in /opt/miniconda3/lib/python3.11/site-packages (from prompt-toolkit<3.1.0,>=3.0.41->ipython>=7.23.1->ipykernel>=5.5.6->plasmapy) (0.2.13)\n",
      "Requirement already satisfied: soupsieve>1.2 in /opt/miniconda3/lib/python3.11/site-packages (from beautifulsoup4->nbconvert<8,>=6.4.5->voila>=0.2.7->plasmapy) (2.5)\n",
      "Requirement already satisfied: executing>=1.2.0 in /opt/miniconda3/lib/python3.11/site-packages (from stack-data->ipython>=7.23.1->ipykernel>=5.5.6->plasmapy) (2.0.1)\n",
      "Requirement already satisfied: asttokens>=2.1.0 in /opt/miniconda3/lib/python3.11/site-packages (from stack-data->ipython>=7.23.1->ipykernel>=5.5.6->plasmapy) (2.4.1)\n",
      "Requirement already satisfied: pure-eval in /opt/miniconda3/lib/python3.11/site-packages (from stack-data->ipython>=7.23.1->ipykernel>=5.5.6->plasmapy) (0.2.3)\n",
      "Requirement already satisfied: fqdn in /opt/miniconda3/lib/python3.11/site-packages (from jsonschema[format-nongpl]>=4.18.0->jupyter-events>=0.9.0->jupyter-server<3,>=2.0.0->voila>=0.2.7->plasmapy) (1.5.1)\n",
      "Requirement already satisfied: isoduration in /opt/miniconda3/lib/python3.11/site-packages (from jsonschema[format-nongpl]>=4.18.0->jupyter-events>=0.9.0->jupyter-server<3,>=2.0.0->voila>=0.2.7->plasmapy) (20.11.0)\n",
      "Requirement already satisfied: jsonpointer>1.13 in /opt/miniconda3/lib/python3.11/site-packages (from jsonschema[format-nongpl]>=4.18.0->jupyter-events>=0.9.0->jupyter-server<3,>=2.0.0->voila>=0.2.7->plasmapy) (2.1)\n",
      "Requirement already satisfied: uri-template in /opt/miniconda3/lib/python3.11/site-packages (from jsonschema[format-nongpl]>=4.18.0->jupyter-events>=0.9.0->jupyter-server<3,>=2.0.0->voila>=0.2.7->plasmapy) (1.3.0)\n",
      "Requirement already satisfied: webcolors>=24.6.0 in /opt/miniconda3/lib/python3.11/site-packages (from jsonschema[format-nongpl]>=4.18.0->jupyter-events>=0.9.0->jupyter-server<3,>=2.0.0->voila>=0.2.7->plasmapy) (24.8.0)\n",
      "Requirement already satisfied: cffi>=1.0.1 in /opt/miniconda3/lib/python3.11/site-packages (from argon2-cffi-bindings->argon2-cffi>=21.1->jupyter-server<3,>=2.0.0->voila>=0.2.7->plasmapy) (1.17.0)\n",
      "Requirement already satisfied: pycparser in /opt/miniconda3/lib/python3.11/site-packages (from cffi>=1.0.1->argon2-cffi-bindings->argon2-cffi>=21.1->jupyter-server<3,>=2.0.0->voila>=0.2.7->plasmapy) (2.21)\n",
      "Requirement already satisfied: arrow>=0.15.0 in /opt/miniconda3/lib/python3.11/site-packages (from isoduration->jsonschema[format-nongpl]>=4.18.0->jupyter-events>=0.9.0->jupyter-server<3,>=2.0.0->voila>=0.2.7->plasmapy) (1.3.0)\n",
      "Requirement already satisfied: types-python-dateutil>=2.8.10 in /opt/miniconda3/lib/python3.11/site-packages (from arrow>=0.15.0->isoduration->jsonschema[format-nongpl]>=4.18.0->jupyter-events>=0.9.0->jupyter-server<3,>=2.0.0->voila>=0.2.7->plasmapy) (2.9.0.20240316)\n"
     ]
    }
   ],
   "source": [
    "# Put the command for installing plasmapy here and run the cell. Don't forget to restart your kernel afterwards\n",
    "!pip install plasmapy"
   ]
  },
  {
   "cell_type": "markdown",
   "metadata": {
    "pycharm": {
     "name": "#%% md\n"
    }
   },
   "source": [
    "&#9989; **Question 3.1.2 (2 points)**: Answer the following questions in the next markdown cell. Read the output of your command. \n",
    "\n",
    "1. Was `plasmapy` installed already ? \n",
    "2. What version of `plasmapy` is installed ?"
   ]
  },
  {
   "cell_type": "markdown",
   "metadata": {
    "pycharm": {
     "name": "#%% md\n"
    }
   },
   "source": [
    "```\n",
    "1. No\n",
    "2. 2024.7.0\n",
    "```"
   ]
  },
  {
   "cell_type": "markdown",
   "metadata": {
    "pycharm": {
     "name": "#%% md\n"
    }
   },
   "source": [
    "---\n",
    "\n",
    "## Part 3.2: Exploring the new library\n",
    "\n",
    "Now that we have installed `plasmapy` let's look at some of this package features. From its [documentation](https://docs.plasmapy.org/en/stable/index.html) we notice that there is a `Particle` class. Since this is something we were trying to do in HW 2, let's look at its docstring. _Hint_: you might want to open your HW2 notebook or look at the copy on the course website.\n",
    "\n",
    "&#9989; **Question 3.2.1 (1 point)**: Print the docstring of the `Particle` class. You should get something similar to [this](https://docs.plasmapy.org/en/stable/api/plasmapy.particles.particle_class.Particle.html#plasmapy.particles.particle_class.Particle). "
   ]
  },
  {
   "cell_type": "code",
   "execution_count": 16,
   "metadata": {
    "pycharm": {
     "name": "#%%\n"
    }
   },
   "outputs": [
    {
     "name": "stdout",
     "output_type": "stream",
     "text": [
      "\n",
      "    A class for an individual particle or antiparticle.\n",
      "\n",
      "    Parameters\n",
      "    ----------\n",
      "    argument : |particle-like|\n",
      "        A string representing a particle, element, isotope, or ion; an\n",
      "        integer representing the atomic number of an element; or a\n",
      "        |Particle|.\n",
      "\n",
      "    mass_numb : int, |keyword-only|, optional\n",
      "        The mass number of an isotope.\n",
      "\n",
      "    Z : int, |keyword-only|, optional\n",
      "        The |charge number| of an ion or neutral atom.\n",
      "\n",
      "    Raises\n",
      "    ------\n",
      "    `TypeError`\n",
      "        For when any of the arguments or keywords is not of the required\n",
      "        type.\n",
      "\n",
      "    `~plasmapy.particles.exceptions.InvalidParticleError`\n",
      "        Raised when the particle input does not correspond to a valid\n",
      "        particle or is contradictory.\n",
      "\n",
      "    `~plasmapy.particles.exceptions.InvalidElementError`\n",
      "        For when an attribute is being accessed that requires\n",
      "        information about an element, but the particle is not an\n",
      "        element, isotope, or ion.\n",
      "\n",
      "    `~plasmapy.particles.exceptions.InvalidIsotopeError`\n",
      "        For when an attribute is being accessed that requires\n",
      "        information about an isotope or nuclide, but the particle is not\n",
      "        an isotope (or an ion of an isotope).\n",
      "\n",
      "    `~plasmapy.particles.exceptions.ChargeError`\n",
      "        For when either the\n",
      "        `~plasmapy.particles.particle_class.Particle.charge` or\n",
      "        `~plasmapy.particles.particle_class.Particle.charge_number`\n",
      "        attributes is being accessed but the charge information for the\n",
      "        particle is not available.\n",
      "\n",
      "    `~plasmapy.particles.exceptions.ParticleError`\n",
      "        Raised for attempts at converting a\n",
      "        |Particle| object to a `bool`.\n",
      "\n",
      "    See Also\n",
      "    --------\n",
      "    ~plasmapy.particles.particle_class.CustomParticle\n",
      "    ~plasmapy.particles.particle_class.DimensionlessParticle\n",
      "    ~plasmapy.particles.particle_collections.ParticleList\n",
      "    ~plasmapy.particles.particle_class.valid_categories\n",
      "\n",
      "    Notes\n",
      "    -----\n",
      "    Valid particle categories include: ``\"actinide\"``, ``\"alkali\n",
      "    metal\"``, ``\"alkaline earth metal\"``, ``\"antibaryon\"``,\n",
      "    ``\"antilepton\"``, ``\"antimatter\"``, ``\"antineutrino\"``,\n",
      "    ``\"baryon\"``, ``\"boson\"``, ``\"charged\"``, ``\"custom\"``,\n",
      "    ``\"electron\"``, ``\"element\"``, ``\"fermion\"``, ``\"halogen\"``,\n",
      "    ``\"ion\"``, ``\"isotope\"``, ``\"lanthanide\"``, ``\"lepton\"``,\n",
      "    ``\"matter\"``, ``\"metal\"``, ``\"metalloid\"``, ``\"neutrino\"``,\n",
      "    ``\"neutron\"``, ``\"noble gas\"``, ``\"nonmetal\"``, ``\"positron\"``,\n",
      "    ``\"post-transition metal\"``, ``\"proton\"``, ``\"stable\"``,\n",
      "    ``\"transition metal\"``, ``\"uncharged\"``, and ``\"unstable\"``.\n",
      "\n",
      "    Examples\n",
      "    --------\n",
      "    Particles may be defined using a wide variety of aliases:\n",
      "\n",
      "    >>> proton = Particle(\"p+\")\n",
      "    >>> electron = Particle(\"e-\")\n",
      "    >>> neutron = Particle(\"neutron\")\n",
      "    >>> deuteron = Particle(\"D\", Z=1)\n",
      "    >>> triton = Particle(\"T+\")\n",
      "    >>> alpha = Particle(\"He\", mass_numb=4, Z=2)\n",
      "    >>> positron = Particle(\"positron\")\n",
      "    >>> hydrogen = Particle(1)  # atomic number\n",
      "\n",
      "    The `~plasmapy.particles.particle_class.Particle.symbol` attribute\n",
      "    returns the particle's symbol in the standard form.\n",
      "\n",
      "    >>> positron.symbol\n",
      "    'e+'\n",
      "\n",
      "    The `~plasmapy.particles.particle_class.Particle.element`,\n",
      "    `~plasmapy.particles.particle_class.Particle.isotope`, and\n",
      "    `~plasmapy.particles.particle_class.Particle.ionic_symbol` attributes\n",
      "    provide the symbols for each of these different types of particles.\n",
      "\n",
      "    >>> proton.element\n",
      "    'H'\n",
      "    >>> alpha.isotope\n",
      "    'He-4'\n",
      "    >>> deuteron.ionic_symbol\n",
      "    'D 1+'\n",
      "\n",
      "    The `~plasmapy.particles.particle_class.Particle.ionic_symbol`\n",
      "    attribute works for neutral atoms if charge information is available.\n",
      "\n",
      "    >>> deuterium = Particle(\"D\", Z=0)\n",
      "    >>> deuterium.ionic_symbol\n",
      "    'D 0+'\n",
      "\n",
      "    If the particle doesn't belong to one of those categories, then\n",
      "    these attributes are `None`.\n",
      "\n",
      "    >>> positron.element is None\n",
      "    True\n",
      "\n",
      "    The attributes of a |Particle| instance may be used to test whether\n",
      "    or not a particle is an element, isotope, or ion.\n",
      "\n",
      "    >>> True if positron.element else False\n",
      "    False\n",
      "    >>> True if deuterium.isotope else False\n",
      "    True\n",
      "    >>> True if Particle(\"alpha\").is_ion else False\n",
      "    True\n",
      "\n",
      "    Many of the attributes provide physical properties of a particle.\n",
      "\n",
      "    >>> electron.charge_number\n",
      "    -1\n",
      "    >>> proton.spin\n",
      "    0.5\n",
      "    >>> alpha.atomic_number\n",
      "    2\n",
      "    >>> deuteron.mass_number\n",
      "    2\n",
      "    >>> deuteron.binding_energy.to(\"MeV\")\n",
      "    <Quantity 2.224... MeV>\n",
      "    >>> alpha.charge\n",
      "    <Quantity 3.20435...e-19 C>\n",
      "    >>> neutron.half_life\n",
      "    <Quantity 881.5 s>\n",
      "    >>> Particle(\"C-14\").half_life.to(u.year)\n",
      "    <Quantity 5730. yr>\n",
      "    >>> hydrogen.ionization_energy\n",
      "    <Quantity 2.17870942e-18 J>\n",
      "    >>> deuteron.electron_number\n",
      "    0\n",
      "    >>> alpha.neutron_number\n",
      "    2\n",
      "\n",
      "    If a |Particle| instance represents an elementary particle, then\n",
      "    the unary ``~`` (invert) operator may be used to return the\n",
      "    particle's antiparticle.\n",
      "\n",
      "    >>> ~positron\n",
      "    Particle(\"e-\")\n",
      "\n",
      "    A |Particle| instance may be used as the first argument to\n",
      "    |Particle|.\n",
      "\n",
      "    >>> iron = Particle(\"Fe\")\n",
      "    >>> iron == Particle(iron)\n",
      "    True\n",
      "    >>> Particle(iron, mass_numb=56, Z=6)\n",
      "    Particle(\"Fe-56 6+\")\n",
      "\n",
      "    If the previously constructed |Particle| instance represents an\n",
      "    element, then the ``Z`` and ``mass_numb`` arguments may be used to\n",
      "    specify an ion or isotope.\n",
      "\n",
      "    >>> iron = Particle(\"Fe\")\n",
      "    >>> Particle(iron, Z=1)\n",
      "    Particle(\"Fe 1+\")\n",
      "    >>> Particle(iron, mass_numb=56)\n",
      "    Particle(\"Fe-56\")\n",
      "\n",
      "    Adding particles together will create a\n",
      "    `~plasmapy.particles.particle_collections.ParticleList`, which is\n",
      "    a list-like collection of particles.\n",
      "\n",
      "    >>> proton + 2 * electron\n",
      "    ParticleList(['p+', 'e-', 'e-'])\n",
      "\n",
      "    The ``>`` operator can be used with |Particle| and/or\n",
      "    `~plasmapy.particles.particle_collections.ParticleList` objects to\n",
      "    return the nuclear reaction energy.\n",
      "\n",
      "    >>> deuteron + triton > alpha + neutron\n",
      "    <Quantity 2.81810898e-12 J>\n",
      "\n",
      "    The `~plasmapy.particles.particle_class.Particle.categories` attribute\n",
      "    and `~plasmapy.particles.particle_class.Particle.is_category` method\n",
      "    may be used to find and test particle membership in categories.\n",
      "    Please refer to\n",
      "    `~plasmapy.particles.particle_class.Particle.is_category` for more\n",
      "    details, including a list of all valid particle categories.\n",
      "    \n"
     ]
    }
   ],
   "source": [
    "# Put your code here\n",
    "import plasmapy\n",
    "print(plasmapy.particles.Particle.__doc__)"
   ]
  },
  {
   "cell_type": "markdown",
   "metadata": {
    "pycharm": {
     "name": "#%% md\n"
    }
   },
   "source": [
    "&#9989; **Question 3.2.2 (1 point)**: What error is raised if you pass an argument that is not a valid particle?"
   ]
  },
  {
   "cell_type": "markdown",
   "metadata": {
    "pycharm": {
     "name": "#%% md\n"
    }
   },
   "source": [
    "**<font size=+3>&#9998;</font> Do This**: *~plasmapy.particles.exceptions.InvalidParticleError*"
   ]
  },
  {
   "cell_type": "markdown",
   "metadata": {
    "pycharm": {
     "name": "#%% md\n"
    }
   },
   "source": [
    "&#9989; **Question 3.2.3 (3 points)**: Read through the documentation of the `Particle`class [Link](https://docs.plasmapy.org/en/stable/particles/particle_class.html) and \n",
    "\n",
    "1. Create a muon particle and call it `my_muon`.\n",
    "\n",
    "2. Check whether `lepton` is one of the categories of `my_muon` using one of its **methods**.\n",
    "\n",
    "3. Print the antiparticle of `my_muon` using one of its **attributes**.\n"
   ]
  },
  {
   "cell_type": "code",
   "execution_count": 21,
   "metadata": {
    "pycharm": {
     "name": "#%%\n"
    }
   },
   "outputs": [
    {
     "name": "stdout",
     "output_type": "stream",
     "text": [
      "True\n",
      "mu+\n"
     ]
    }
   ],
   "source": [
    "### Put your code here\n",
    "my_muon = plasmapy.particles.Particle('muon')\n",
    "print(my_muon.is_category('lepton'))\n",
    "print(my_muon.antiparticle)"
   ]
  },
  {
   "cell_type": "markdown",
   "metadata": {
    "pycharm": {
     "name": "#%% md\n"
    }
   },
   "source": [
    "---\n",
    "### &#128721; STOP\n",
    "**Pause to commit your changes to your Git repository! (1 point)**\n",
    "\n",
    "Take a moment to save your notebook, commit the changes to your Git repository using the commit message \"**Committing Part 3**\", and push the changes to GitHub.\n",
    "\n",
    "---"
   ]
  },
  {
   "cell_type": "markdown",
   "metadata": {
    "pycharm": {
     "name": "#%% md\n"
    }
   },
   "source": [
    "---\n",
    "# Part 4: Object-Oriented Programming (38 points)\n",
    "\n",
    "\n",
    "\n",
    "<img src=https://upload.wikimedia.org/wikipedia/commons/thumb/b/b5/Starting_position_in_a_chess_game.jpg/1024px-Starting_position_in_a_chess_game.jpg width=600px align=center >\n",
    "\n",
    "\n",
    "Let's set up a fictional chess! Here is a [link](https://chess-teacher.com/wp-content/uploads/2016/01/symbols-of-chess-pieces.jpg) explaining the meaning of each piece."
   ]
  },
  {
   "cell_type": "markdown",
   "metadata": {
    "pycharm": {
     "name": "#%% md\n"
    }
   },
   "source": [
    "&#9989; **Question 4.1 (9 points)**: The following cell contains a draft of a class called `ChessPiece` with only the `__init__` constructor. Complete the `__init__` constructor so that it:\n",
    "\n",
    "- takes in three arguments, `color`, `shape`, with no default values. These arguments correspond to three attributes with the same name.\n",
    "\n",
    "- creates another attribute called `position`. This should be a `tuple` set to `('a', 0)`. _Note:_ `'a'` is a `str` while `0` is an `int`.\n",
    "\n",
    "- check whether `shape` is contained in the `list` `[\"bishop\", \"king\", \"knight\", \"pawn\", \"queen\", \"rook\"]`. [Hint](https://codedamn.com/news/python/how-to-check-for-specific-elements-in-list-in-python)\n",
    "\n",
    "- If no `raise` a `ValueError` with the message `\"Piece does not exist.\"`.  [Hint](https://stackoverflow.com/questions/2052390/manually-raising-throwing-an-exception-in-python) \n"
   ]
  },
  {
   "cell_type": "code",
   "execution_count": null,
   "metadata": {
    "pycharm": {
     "name": "#%%\n"
    }
   },
   "outputs": [],
   "source": [
    "# Put your code here\n",
    "class ChessPiece:\n",
    "    \"\"\"Base class for chess pieces. \n",
    "    \n",
    "    Attributes\n",
    "    ----------\n",
    "    color : str\n",
    "        Color of the chess piece.\n",
    "    \n",
    "    shape : str\n",
    "        Shape of the chess piece. It can be only one of the following\n",
    "        [\"bishop\", \"king\", \"knight\", \"pawn\", \"queen\", \"rook\"]\n",
    "    \n",
    "    position : tuple\n",
    "        Position on the chess board.\n",
    "    \n",
    "    \"\"\"\n",
    "    def __init__(): \n",
    "        \"\"\"Initialize the chess piece with its attributes color and shape \n",
    "        and set the initial position to the lower left corner of the board.\n",
    "        \n",
    "        Input Parameter\n",
    "        ---------------\n",
    "        color : str\n",
    "            Color of the chess piece.\n",
    "    \n",
    "        shape : str\n",
    "            Shape of the chess piece. It can be only one of the following\n",
    "            [\"bishop\", \"king\", \"knight\", \"pawn\", \"queen\", \"rook\"]\n",
    "        \n",
    "        Raises\n",
    "        ------\n",
    "        ValueError\n",
    "            For when the shape is not one of the possible shapes.\"\"\"\n",
    "        \n",
    "        # Put your code here\n",
    "        \n",
    "        pass \n"
   ]
  },
  {
   "cell_type": "markdown",
   "metadata": {
    "pycharm": {
     "name": "#%% md\n"
    }
   },
   "source": [
    "## Test your code\n",
    "\n",
    "Let's see that the code works. Run the following cells."
   ]
  },
  {
   "cell_type": "code",
   "execution_count": 11,
   "metadata": {
    "pycharm": {
     "name": "#%%\n"
    }
   },
   "outputs": [
    {
     "data": {
      "text/plain": [
       "('a', 0)"
      ]
     },
     "execution_count": 11,
     "metadata": {},
     "output_type": "execute_result"
    }
   ],
   "source": [
    "#\n",
    "pawn = ChessPiece(color = \"white\", shape = \"pawn\")\n",
    "\n",
    "pawn.position"
   ]
  },
  {
   "cell_type": "markdown",
   "metadata": {
    "pycharm": {
     "name": "#%% md\n"
    }
   },
   "source": [
    "&#9989; **Question 4.1.1 (1 point):** Is `pawn` starting in the correct position `('a',0)`? If Yes move to the next, otherwise fix your code."
   ]
  },
  {
   "cell_type": "code",
   "execution_count": 12,
   "metadata": {
    "pycharm": {
     "name": "#%%\n"
    }
   },
   "outputs": [
    {
     "ename": "ValueError",
     "evalue": "Piece does not exist",
     "output_type": "error",
     "traceback": [
      "\u001b[0;31m---------------------------------------------------------------------------\u001b[0m",
      "\u001b[0;31mValueError\u001b[0m                                Traceback (most recent call last)",
      "\u001b[0;32m/tmp/ipykernel_3843/3681508696.py\u001b[0m in \u001b[0;36m<module>\u001b[0;34m\u001b[0m\n\u001b[1;32m      1\u001b[0m \u001b[0;31m# Let's try breaking the code\u001b[0m\u001b[0;34m\u001b[0m\u001b[0;34m\u001b[0m\u001b[0m\n\u001b[1;32m      2\u001b[0m \u001b[0;34m\u001b[0m\u001b[0m\n\u001b[0;32m----> 3\u001b[0;31m \u001b[0marcher\u001b[0m \u001b[0;34m=\u001b[0m \u001b[0mChessPiece\u001b[0m\u001b[0;34m(\u001b[0m\u001b[0mcolor\u001b[0m \u001b[0;34m=\u001b[0m \u001b[0;34m\"black\"\u001b[0m\u001b[0;34m,\u001b[0m \u001b[0mshape\u001b[0m \u001b[0;34m=\u001b[0m \u001b[0;34m\"archer\"\u001b[0m\u001b[0;34m)\u001b[0m\u001b[0;34m\u001b[0m\u001b[0;34m\u001b[0m\u001b[0m\n\u001b[0m",
      "\u001b[0;32m/tmp/ipykernel_3843/1418622609.py\u001b[0m in \u001b[0;36m__init__\u001b[0;34m(self, color, shape)\u001b[0m\n\u001b[1;32m     42\u001b[0m             \u001b[0mself\u001b[0m\u001b[0;34m.\u001b[0m\u001b[0mshape\u001b[0m \u001b[0;34m=\u001b[0m \u001b[0mshape\u001b[0m \u001b[0;31m# 1 point for this line\u001b[0m\u001b[0;34m\u001b[0m\u001b[0;34m\u001b[0m\u001b[0m\n\u001b[1;32m     43\u001b[0m         \u001b[0;32melse\u001b[0m\u001b[0;34m:\u001b[0m\u001b[0;34m\u001b[0m\u001b[0;34m\u001b[0m\u001b[0m\n\u001b[0;32m---> 44\u001b[0;31m             \u001b[0;32mraise\u001b[0m \u001b[0mValueError\u001b[0m\u001b[0;34m(\u001b[0m\u001b[0;34m\"Piece does not exist\"\u001b[0m\u001b[0;34m)\u001b[0m \u001b[0;31m# 1 point for this line\u001b[0m\u001b[0;34m\u001b[0m\u001b[0;34m\u001b[0m\u001b[0m\n\u001b[0m\u001b[1;32m     45\u001b[0m \u001b[0;34m\u001b[0m\u001b[0m\n",
      "\u001b[0;31mValueError\u001b[0m: Piece does not exist"
     ]
    }
   ],
   "source": [
    "# Let's try breaking the code\n",
    "\n",
    "archer = ChessPiece(color = \"black\", shape = \"archer\")"
   ]
  },
  {
   "cell_type": "markdown",
   "metadata": {
    "pycharm": {
     "name": "#%% md\n"
    }
   },
   "source": [
    "&#9989; **Question 4.1.2 (1 point):** Did you get a `ValueError` with the correct message? If Yes move to the next, otherwise fix your code.\n",
    "\n"
   ]
  },
  {
   "cell_type": "markdown",
   "metadata": {
    "pycharm": {
     "name": "#%% md\n"
    }
   },
   "source": [
    "---\n",
    "&#9989; **Question 4.2 (21 points)**: In the code cell below there is a draft of a class called `Queen`. Complete this class which **should inherit** the `ChessPiece` class. In addition, modify the methods such that:\n",
    "\n",
    "- the `__init__` constructor \n",
    "    * takes in one argument, `color`. \n",
    "    * set the `shape` attribute to `queen`\n",
    "    * initializes the `position` attribute to `('d',1)` if the `color` attribute is `'white'` otherwise it initializes it to `('d',8)` if the color attribute is `'black'`.\n",
    "    \n",
    "- the `move_to` method should:\n",
    "    * take in one argument `to_position`, with no default value. This will be the position in the chess board where the queen will move.\n",
    "    * check whether the `to_position` is an _instance_ of a `tuple` [Hint](<https://letmegooglethat.com/?q=How+do+I+check+if+an+object+is+an+instance+of+a+given+class+python>).:\n",
    "        * if no then it will raise a `TypeError` with the message `\"Please pass a tuple.\"` [Hint](https://stackoverflow.com/questions/2052390/manually-raising-throwing-an-exception-in-python).\n",
    "        \n",
    "        * if yes then it will check if `to_position` is an allowed value, _i.e._ check if the elements of the `tuple` exist on the chess board. If the desired position does not exist on the board then raise a `ValueError` with the message `\"Move not allowed.\"` Otherwise set the attribute `position` equal to `to_position`. _Note:_ the allowed x-coordinates are `\"a\"` through `\"h\"` and the allowed y-coordinates are `1` through `8`!.       \n",
    "        "
   ]
  },
  {
   "cell_type": "code",
   "execution_count": null,
   "metadata": {
    "pycharm": {
     "name": "#%%\n"
    }
   },
   "outputs": [],
   "source": [
    "# Put your code here\n",
    "class Queen:\n",
    "    \"\"\"\n",
    "    Queen chess piece. Can move in any direction. It inherits the ChessPiece class.\n",
    "    \"\"\"\n",
    "    def __init__(): \n",
    "        \"\"\"\n",
    "        Initialize the chess piece with its attributes color and shape \n",
    "        and set the initial position to the lower left corner of the board.\n",
    "        \n",
    "        Input Parameter\n",
    "        ---------------\n",
    "        color : str\n",
    "            Color of the chess piece.\n",
    "\n",
    "        \"\"\"\n",
    "        # Put your code here\n",
    "        pass\n",
    "    \n",
    "    def move_to():\n",
    "        \"\"\"\n",
    "        Move the chess piece to the given position.\n",
    "        \n",
    "        Input parameter\n",
    "        ---------------\n",
    "        to_position: tuple\n",
    "            Chess board coordinates where to move the piece.\n",
    "        \n",
    "        Raises\n",
    "        ------\n",
    "        ValueError\n",
    "            For when the elements of the tuple are not part of the chess board.\n",
    "        \n",
    "        TypeError\n",
    "            For when the input argument is not of the required type.   \n",
    "        \"\"\"\n",
    "        # Put your code here\n",
    "        pass"
   ]
  },
  {
   "cell_type": "markdown",
   "metadata": {
    "pycharm": {
     "name": "#%% md\n"
    }
   },
   "source": [
    "## Test your code\n",
    "\n",
    "Let's check that the code works. Run the following cell."
   ]
  },
  {
   "cell_type": "code",
   "execution_count": 14,
   "metadata": {
    "pycharm": {
     "name": "#%%\n"
    }
   },
   "outputs": [
    {
     "name": "stdout",
     "output_type": "stream",
     "text": [
      "('d', 8)\n",
      "('d', 1)\n"
     ]
    }
   ],
   "source": [
    "# Create two queens\n",
    "\n",
    "harmon = Queen(color = 'black')\n",
    "kasparov = Queen(color = \"white\")\n",
    "\n",
    "print(harmon.position)\n",
    "print(kasparov.position)\n"
   ]
  },
  {
   "cell_type": "markdown",
   "metadata": {
    "pycharm": {
     "name": "#%% md\n"
    }
   },
   "source": [
    "&#9989; **Question 4.3.1 (2 points):** Are the queens starting in the correct positions? Look at the board above. If Yes move to the next, otherwise fix your code."
   ]
  },
  {
   "cell_type": "code",
   "execution_count": 15,
   "metadata": {
    "pycharm": {
     "name": "#%%\n"
    }
   },
   "outputs": [
    {
     "name": "stdout",
     "output_type": "stream",
     "text": [
      "('e', 2)\n"
     ]
    }
   ],
   "source": [
    "# Let's try to move \n",
    "harmon.move_to((\"e\",2))\n",
    "\n",
    "print(harmon.position)"
   ]
  },
  {
   "cell_type": "markdown",
   "metadata": {
    "pycharm": {
     "name": "#%% md\n"
    }
   },
   "source": [
    "&#9989; **Question 4.3.2 (1 point)** Has the queen moved to the correct position? If Yes move to the next, otherwise fix your code."
   ]
  },
  {
   "cell_type": "code",
   "execution_count": null,
   "metadata": {
    "pycharm": {
     "name": "#%%\n"
    }
   },
   "outputs": [],
   "source": [
    "# Let's try and break the code\n",
    "\n",
    "kasparov.move_to( \"upper left by two\")"
   ]
  },
  {
   "cell_type": "markdown",
   "metadata": {
    "pycharm": {
     "name": "#%% md\n"
    }
   },
   "source": [
    "&#9989; **Question 4.3.3 (1 point)**. Did you get a `TypeError` with the correct message? If Yes move to the next, otherwise fix your code."
   ]
  },
  {
   "cell_type": "code",
   "execution_count": null,
   "metadata": {
    "pycharm": {
     "name": "#%%\n"
    }
   },
   "outputs": [],
   "source": [
    "# Let's check the ValueError\n",
    "\n",
    "harmon.move_to(to_position=(\"l\",6))"
   ]
  },
  {
   "cell_type": "markdown",
   "metadata": {
    "pycharm": {
     "name": "#%% md\n"
    }
   },
   "source": [
    "&#9989; **Question 4.3.4 (1 point)**. Did you get a `ValueError` with the correct message? If Yes move to the next, otherwise fix your code."
   ]
  },
  {
   "cell_type": "markdown",
   "metadata": {
    "pycharm": {
     "name": "#%% md\n"
    }
   },
   "source": [
    "---\n",
    "### &#128721; STOP\n",
    "**Pause to commit your changes to your Git repository! (1 point)**\n",
    "\n",
    "Take a moment to save your notebook, commit the changes to your Git repository using the commit message \"**Committing Part 4**\", and push the changes to GitHub.\n",
    "\n",
    "---"
   ]
  },
  {
   "cell_type": "markdown",
   "metadata": {
    "pycharm": {
     "name": "#%% md\n"
    }
   },
   "source": [
    "---\n",
    "# Part 5. Conclusion (3 points)\n",
    "\n",
    "Make sure all of your changes to your repository are committed and pushed to GitHub. \n",
    "Before you leave\n",
    "\n",
    "1. Commit changes to your **local** `git` repository (1 point)\n",
    "\n",
    "2. Push the changes to your GitHub repository (1 point)\n",
    "\n",
    "3. Upload your notebook to D2L in case something went wrong with your repository or if you couldn't get the repository to work.  (1 point)"
   ]
  },
  {
   "cell_type": "markdown",
   "metadata": {
    "pycharm": {
     "name": "#%% md\n"
    }
   },
   "source": [
    "# You're done! Congrats on finishing your CMSE 202 Midterm!\n",
    "\n",
    "\n",
    "![Moira2](https://media.giphy.com/media/d1E2HnwywoTkES08/giphy.gif)"
   ]
  },
  {
   "cell_type": "code",
   "execution_count": null,
   "metadata": {
    "pycharm": {
     "name": "#%%\n"
    }
   },
   "outputs": [],
   "source": [
    "\n",
    "# FINAL GRADE (Instructor's use only)\n",
    "parts = [1, 9, 21, 9, 38, 3]\n",
    "\n",
    "total = sum(parts)\n",
    "print(f\"You final grade is {total}\")"
   ]
  },
  {
   "cell_type": "markdown",
   "metadata": {
    "pycharm": {
     "name": "#%% md\n"
    }
   },
   "source": [
    "&#169; Copyright 2024,  Department of Computational Mathematics, Science and Engineering at Michigan State University"
   ]
  }
 ],
 "metadata": {
  "kernelspec": {
   "display_name": "Python 3.11 (default)",
   "language": "python",
   "name": "python3"
  },
  "language_info": {
   "codemirror_mode": {
    "name": "ipython",
    "version": 3
   },
   "file_extension": ".py",
   "mimetype": "text/x-python",
   "name": "python",
   "nbconvert_exporter": "python",
   "pygments_lexer": "ipython3",
   "version": "3.11.9"
  },
  "widgets": {
   "application/vnd.jupyter.widget-state+json": {
    "state": {},
    "version_major": 2,
    "version_minor": 0
   }
  }
 },
 "nbformat": 4,
 "nbformat_minor": 4
}
